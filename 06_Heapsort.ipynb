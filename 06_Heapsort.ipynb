{
 "cells": [
  {
   "cell_type": "markdown",
   "metadata": {
    "vscode": {
     "languageId": "plaintext"
    }
   },
   "source": [
    "# Chapter 6: Heapsort"
   ]
  },
  {
   "cell_type": "code",
   "execution_count": 1,
   "metadata": {},
   "outputs": [],
   "source": [
    "from typing import List"
   ]
  },
  {
   "cell_type": "markdown",
   "metadata": {},
   "source": [
    "## 6.2. Maintaining the Heap Property"
   ]
  },
  {
   "cell_type": "code",
   "execution_count": null,
   "metadata": {},
   "outputs": [],
   "source": [
    "def Left(i: int):\n",
    "    pass\n",
    "\n",
    "def Right(i: int):\n",
    "    pass\n",
    "\n",
    "def swap(A: List, i: int, j: int):\n",
    "    pass\n",
    "\n",
    "def max_heapify(A: List, i: int):\n",
    "    l = Left(i)\n",
    "    r = Right(i)\n",
    "    if l <= len(A) and A[l] > A[i]:\n",
    "        largest = l\n",
    "    else:\n",
    "        largest = i\n",
    "    if r <= len(A) and A[r] > A[largest]:\n",
    "        largest = r\n",
    "    if largest != i:\n",
    "        swap(A, i, largest)\n",
    "        max_heapify(A, largest)"
   ]
  },
  {
   "cell_type": "markdown",
   "metadata": {},
   "source": [
    "## 6.3. Building a heap"
   ]
  },
  {
   "cell_type": "code",
   "execution_count": 4,
   "metadata": {},
   "outputs": [
    {
     "name": "stdout",
     "output_type": "stream",
     "text": [
      "10\n",
      "5\n",
      "4\n",
      "3\n",
      "2\n",
      "1\n"
     ]
    }
   ],
   "source": [
    "def build_max_heap(A: List):\n",
    "    n = len(A)\n",
    "    for i in range(n//2, 0, -1):\n",
    "        print(i)\n",
    "A = [16, 4, 10, 14, 7, 9, 3, 2, 8, 1]\n",
    "print(len(A))\n",
    "build_max_heap(A)"
   ]
  },
  {
   "cell_type": "code",
   "execution_count": null,
   "metadata": {},
   "outputs": [],
   "source": []
  }
 ],
 "metadata": {
  "kernelspec": {
   "display_name": "d2lai",
   "language": "python",
   "name": "python3"
  },
  "language_info": {
   "codemirror_mode": {
    "name": "ipython",
    "version": 3
   },
   "file_extension": ".py",
   "mimetype": "text/x-python",
   "name": "python",
   "nbconvert_exporter": "python",
   "pygments_lexer": "ipython3",
   "version": "3.11.0"
  }
 },
 "nbformat": 4,
 "nbformat_minor": 2
}
